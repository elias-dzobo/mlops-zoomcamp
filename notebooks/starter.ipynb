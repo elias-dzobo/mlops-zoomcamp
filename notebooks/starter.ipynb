{
 "cells": [
  {
   "cell_type": "code",
   "execution_count": 1,
   "id": "2c51efaa",
   "metadata": {},
   "outputs": [
    {
     "name": "stdout",
     "output_type": "stream",
     "text": [
      "scikit-learn==1.7.0\n"
     ]
    }
   ],
   "source": [
    "!pip freeze | grep scikit-learn"
   ]
  },
  {
   "cell_type": "code",
   "execution_count": 2,
   "id": "4acf73a0-51b5-4663-9bb8-8eb947863e17",
   "metadata": {},
   "outputs": [
    {
     "name": "stdout",
     "output_type": "stream",
     "text": [
      "Python 3.11.6\n"
     ]
    }
   ],
   "source": [
    "!python -V"
   ]
  },
  {
   "cell_type": "code",
   "execution_count": 17,
   "id": "0ef880a0",
   "metadata": {},
   "outputs": [],
   "source": [
    "import pickle\n",
    "import pandas as pd"
   ]
  },
  {
   "cell_type": "code",
   "execution_count": 26,
   "id": "eccb32ec",
   "metadata": {},
   "outputs": [],
   "source": [
    "year = 2023\n",
    "month = 3"
   ]
  },
  {
   "cell_type": "code",
   "execution_count": 23,
   "id": "7836ccfd",
   "metadata": {},
   "outputs": [],
   "source": [
    "def load_artifact():\n",
    "\n",
    "    with open('/Users/eliasdzobo/Desktop/2025/mlops-2025/model.pkl', 'rb') as f_in:\n",
    "        model = pickle.load(f_in)\n",
    "\n",
    "    with open('/Users/eliasdzobo/Desktop/2025/mlops-2025/dict_vectorizer.pkl', 'rb') as f_in:\n",
    "        dv = pickle.load(f_in)\n",
    "\n",
    "    return model, dv"
   ]
  },
  {
   "cell_type": "code",
   "execution_count": 19,
   "id": "41c08294",
   "metadata": {},
   "outputs": [],
   "source": [
    "categorical = ['PULocationID', 'DOLocationID']\n",
    "\n",
    "def read_data(filename):\n",
    "    df = pd.read_parquet(filename)\n",
    "    \n",
    "    df['duration'] = df.tpep_dropoff_datetime - df.tpep_pickup_datetime\n",
    "    df['duration'] = df.duration.dt.total_seconds() / 60\n",
    "\n",
    "    df = df[(df.duration >= 1) & (df.duration <= 60)].copy()\n",
    "\n",
    "    df[categorical] = df[categorical].fillna(-1).astype('int').astype('str')\n",
    "    \n",
    "    return df"
   ]
  },
  {
   "cell_type": "code",
   "execution_count": 29,
   "id": "bd8d6467",
   "metadata": {},
   "outputs": [],
   "source": [
    "def apply_model(year, month, metrc='mean'):\n",
    "    df = read_data(f'https://d37ci6vzurychx.cloudfront.net/trip-data/yellow_tripdata_{year}-{month:02d}.parquet')\n",
    "    print(f\"Data loaded for {year}-{month:02d}\")\n",
    "    model, dv = load_artifact()\n",
    "    print(\"Model and DictVectorizer loaded\")\n",
    "    dicts = df[categorical].to_dict(orient='records')\n",
    "    print(\"Data transformed to dicts for prediction\")\n",
    "    X_val = dv.transform(dicts)\n",
    "    print(\"Data vectorized for model input\")\n",
    "    y_pred = model.predict(X_val)\n",
    "    print(\"Predictions made using the model\")\n",
    "\n",
    "    if metrc == 'mean':\n",
    "        mean_pred = y_pred.mean()\n",
    "        print(f\"Mean predicted duration: {mean_pred:.2f}\")\n",
    "    elif metrc == 'std':\n",
    "        std_pred = y_pred.std()\n",
    "        print(f\"Standard deviation of predicted duration: {std_pred:.2f}\")\n",
    "    return df, y_pred"
   ]
  },
  {
   "cell_type": "code",
   "execution_count": 30,
   "id": "776c1273",
   "metadata": {},
   "outputs": [],
   "source": [
    "def save_results(df, y_pred, output_file):\n",
    "\n",
    "    df['ride_id'] = f'{year:04d}/{month:02d}_' + df.index.astype(str)\n",
    "    df_result = pd.DataFrame({\n",
    "        'ride_id': df['ride_id'],\n",
    "        'predicted_duration': y_pred\n",
    "    })\n",
    "\n",
    "    df_result.to_parquet(\n",
    "        output_file,\n",
    "        engine='pyarrow',\n",
    "        compression=None,\n",
    "        index=False\n",
    "    )"
   ]
  },
  {
   "cell_type": "code",
   "execution_count": 31,
   "id": "bf532ae7-1897-428c-ba0c-875ccaf7d76c",
   "metadata": {},
   "outputs": [],
   "source": [
    "def main(year, month):\n",
    "    df, y_pred = apply_model(year, month, metrc='mean')\n",
    "    save_results(df, y_pred, f'{year:04d}-{month:02d}_predictions.parquet')\n"
   ]
  },
  {
   "cell_type": "code",
   "execution_count": 32,
   "id": "ea41a92b",
   "metadata": {},
   "outputs": [
    {
     "name": "stdout",
     "output_type": "stream",
     "text": [
      "Data loaded for 2023-05\n",
      "Model and DictVectorizer loaded\n",
      "Data transformed to dicts for prediction\n",
      "Data vectorized for model input\n",
      "Predictions made using the model\n",
      "Mean predicted duration: 15.04\n"
     ]
    }
   ],
   "source": [
    "main(2023, 5)"
   ]
  },
  {
   "cell_type": "code",
   "execution_count": null,
   "id": "fa0d511b",
   "metadata": {},
   "outputs": [],
   "source": []
  }
 ],
 "metadata": {
  "kernelspec": {
   "display_name": ".env",
   "language": "python",
   "name": "python3"
  },
  "language_info": {
   "codemirror_mode": {
    "name": "ipython",
    "version": 3
   },
   "file_extension": ".py",
   "mimetype": "text/x-python",
   "name": "python",
   "nbconvert_exporter": "python",
   "pygments_lexer": "ipython3",
   "version": "3.11.6"
  }
 },
 "nbformat": 4,
 "nbformat_minor": 5
}
